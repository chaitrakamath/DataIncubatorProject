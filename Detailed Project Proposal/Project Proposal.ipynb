{
 "cells": [
  {
   "cell_type": "markdown",
   "metadata": {},
   "source": [
    "### Problem: \n",
    "I am proposing a project built around Meetup. This project can be used for two sides of meetup audience: potential organizer and potential member looking to join a meetup group. \n",
    "\n",
    "You may be thinking of creating a new meetup group in your local geographical area based on your area of interest. However, in order for your meetup to be successful, you may want to get some questions answered first:\n",
    "•\tWhat are the general categories (for ex: tech vs. nutrition)of interest in your local geographical area?\n",
    "•\tWhat are the number of members by category and their growth over time?\n",
    "•\tWhat are the most popular meetup groups in your category of interest?\n",
    "\n",
    "Having these insights and more, you may answer some questions as follows:\n",
    "•\tHow many members may you expect to join your group?\n",
    "•\tHow are general ratings for similar meetups in different cities around you?\n",
    "•\tHow many members may you expect to RSVP to an event?\n",
    "\n",
    "Apart from this, let’s say you relocate to a new place and have a general area of interest that you would like to find meetup group for. Finding best meetup for you could be challenging if there are multiple meetup groups surrounding the same topic. You may have to manually sift through multiple groups looking at the average reviews, number of members, frequency of their events. \n",
    "\n",
    "### Data: \n",
    "We would be extracting large amount of data across major cities in US, European and Asian countries via the Meetup API. \n",
    "For initial data analysis, I have just extracted data of meetup groups in Santa Fe, NM and San Francisco, CA. One city is very art and culture focused and the other is tech focused. Hence, we are bound to see some differences in meetup groups across both the cities. \n",
    "We can extract more information and employ further machine learning techniques to answer some of the queries posed above. \n",
    "\n",
    "### Basic Analysis:\n",
    "1.\tWe would like to see how the meetup topics differ in different cities such as San Francisco, CA and Santa Fe, NM\n",
    "2.\tWe would also like to see how Python meetup groups differ across the globe\n",
    "\n",
    "### Applications / Further Research: \n",
    "•\tBy extracting more data, we can predict the amount of common membership (number of common members) between different groups\n",
    "•\tWe can create a machine learning application to predict group size and attendance at an event\n",
    "•\tWe can also get some information for marketing based on general area of interest in a given area (Ex: Data Science Bootcamp Galvanize would prefer to come and advertise in Austin which is a budding Data Science hub as against going to San Francisco, where there’s abundance of Data Scientists already, or Santa Fe, which is not really a tech hub)\n"
   ]
  },
  {
   "cell_type": "code",
   "execution_count": null,
   "metadata": {
    "collapsed": true
   },
   "outputs": [],
   "source": []
  }
 ],
 "metadata": {
  "kernelspec": {
   "display_name": "Python 2",
   "language": "python",
   "name": "python2"
  },
  "language_info": {
   "codemirror_mode": {
    "name": "ipython",
    "version": 2
   },
   "file_extension": ".py",
   "mimetype": "text/x-python",
   "name": "python",
   "nbconvert_exporter": "python",
   "pygments_lexer": "ipython2",
   "version": "2.7.11"
  }
 },
 "nbformat": 4,
 "nbformat_minor": 0
}
